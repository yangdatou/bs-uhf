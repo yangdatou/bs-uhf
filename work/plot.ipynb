{
 "cells": [
  {
   "cell_type": "code",
   "execution_count": 20,
   "metadata": {},
   "outputs": [],
   "source": [
    "%matplotlib inline\n",
    "import numpy\n",
    "import scipy\n",
    "from numpy import load\n",
    "import matplotlib as mpl\n",
    "from matplotlib import pyplot as plt\n",
    "\n",
    "params = {\n",
    "        \"font.size\":       20,\n",
    "        \"axes.titlesize\":  16,\n",
    "        \"axes.labelsize\":  24,\n",
    "        \"legend.fontsize\": 16,\n",
    "        \"xtick.labelsize\": 16,\n",
    "        \"ytick.labelsize\": 16,\n",
    "        \"figure.subplot.wspace\":0.0,\n",
    "        \"figure.subplot.hspace\":0.0,\n",
    "        \"axes.spines.right\": True,\n",
    "        \"axes.spines.top\":   True,\n",
    "        \"xtick.direction\":'in',\n",
    "        \"ytick.direction\":'in',\n",
    "        \"text.usetex\": True,\n",
    "        \"font.family\": \"serif\",\n",
    "        'text.latex.preamble': r\"\\usepackage{amsmath}\"\n",
    "}\n",
    "\n",
    "# colors = [\"#f08700\", \"#c6382b\", \"#9e566b\", \"#39447a\", \"#621b12\",  \"#00a6a6\",]\n",
    "colors = [\"#016b7e\", \"#099da0\", \"#9cd8c7\", \"#ecdcae\", \"#f1a502\", \"#d17203\", \"#c44703\", \"#b82513\", \"#a6272d\"]\n",
    "\n",
    "mpl.rcParams.update(params)"
   ]
  },
  {
   "cell_type": "code",
   "execution_count": 22,
   "metadata": {},
   "outputs": [],
   "source": [
    "lam_list = []\n",
    "res_list = []\n",
    "\n",
    "with open(\"./spin.log\", \"r\") as f:\n",
    "    for line in f:\n",
    "        lam = float(line.split()[2][:-1])\n",
    "        res = float(line.split()[5])\n",
    "        lam_list.append(lam)\n",
    "        res_list.append(res)"
   ]
  },
  {
   "cell_type": "code",
   "execution_count": 25,
   "metadata": {},
   "outputs": [
    {
     "data": {
      "text/plain": [
       "(-0.05, 0.05)"
      ]
     },
     "execution_count": 25,
     "metadata": {},
     "output_type": "execute_result"
    },
    {
     "data": {
      "image/png": "[encoded data removed]",
      "text/plain": [
       "<Figure size 800x400 with 1 Axes>"
      ]
     },
     "metadata": {},
     "output_type": "display_data"
    }
   ],
   "source": [
    "fig, ax = plt.subplots(1, 1, figsize=(8,4))\n",
    "ax.plot(lam_list, res_list, color=colors[0], linewidth=2)\n",
    "ax.set_ylim(-0.05, 0.05)"
   ]
  },
  {
   "cell_type": "code",
   "execution_count": null,
   "metadata": {},
   "outputs": [],
   "source": []
  }
 ],
 "metadata": {
  "kernelspec": {
   "display_name": "base",
   "language": "python",
   "name": "python3"
  },
  "language_info": {
   "codemirror_mode": {
    "name": "ipython",
    "version": 3
   },
   "file_extension": ".py",
   "mimetype": "text/x-python",
   "name": "python",
   "nbconvert_exporter": "python",
   "pygments_lexer": "ipython3",
   "version": "3.9.13 (main, Aug 25 2022, 18:29:29) \n[Clang 12.0.0 ]"
  },
  "orig_nbformat": 4,
  "vscode": {
   "interpreter": {
    "hash": "cd6d3c4e16ae333676ac5ff0bb552f825d1015cadc6d12817bd9921e3f430be2"
   }
  }
 },
 "nbformat": 4,
 "nbformat_minor": 2
}
