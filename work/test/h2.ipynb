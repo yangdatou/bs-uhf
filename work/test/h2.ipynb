{
 "cells": [
  {
   "cell_type": "code",
   "execution_count": 17,
   "metadata": {},
   "outputs": [
    {
     "data": {
      "text/plain": [
       "<pyscf.gto.mole.Mole at 0x7fe75d12cf40>"
      ]
     },
     "execution_count": 17,
     "metadata": {},
     "output_type": "execute_result"
    }
   ],
   "source": []
  },
  {
   "cell_type": "code",
   "execution_count": 18,
   "metadata": {},
   "outputs": [
    {
     "data": {
      "text/plain": [
       "-0.5436117648109633"
      ]
     },
     "execution_count": 18,
     "metadata": {},
     "output_type": "execute_result"
    }
   ],
   "source": []
  },
  {
   "cell_type": "code",
   "execution_count": 10,
   "metadata": {},
   "outputs": [],
   "source": []
  },
  {
   "cell_type": "code",
   "execution_count": 22,
   "metadata": {},
   "outputs": [
    {
     "data": {
      "text/plain": [
       "array([[-0.57231959,  0.36084411],\n",
       "       [ 0.36084411, -0.57231959]])"
      ]
     },
     "execution_count": 22,
     "metadata": {},
     "output_type": "execute_result"
    }
   ],
   "source": [
    "from pyscf import gto, scf, fci\n",
    "\n",
    "mol = gto.Mole()\n",
    "mol.verbose = 0\n",
    "mol.atom = \"\"\"\n",
    "    H 0.00000 0.00000 0.00000\n",
    "    H 0.00000 0.00000 10.00000\n",
    "\"\"\"\n",
    "mol.basis = \"sto3g\"\n",
    "mol.spin = 0\n",
    "mol.build()\n",
    "\n",
    "rhf = scf.RHF(mol)\n",
    "rhf.verbose = 0\n",
    "rhf.max_cycle = 0\n",
    "rhf.kernel()\n",
    "\n",
    "fciobj = fci.FCI(mol, rhf.mo_coeff)\n",
    "e, c = fciobj.kernel(nroots=10)\n",
    "\n",
    "import numpy\n",
    "h = numpy.einsum(\"e,eab,eij->abij\", e, c, c)\n",
    "\n",
    "c1 = [[1, 0], [0, 0]]\n",
    "c2 = [[0, 0], [0, 1]]\n",
    "cc = (c1, c2)\n",
    "h = numpy.einsum(\"Iab,Jij,abij->IJ\", cc, cc, h)\n",
    "h"
   ]
  },
  {
   "cell_type": "code",
   "execution_count": 24,
   "metadata": {},
   "outputs": [
    {
     "data": {
      "text/plain": [
       "array([[-1.11734903,  0.17900058],\n",
       "       [ 0.17900058,  0.56447368]])"
      ]
     },
     "execution_count": 24,
     "metadata": {},
     "output_type": "execute_result"
    }
   ],
   "source": [
    "from pyscf import gto, scf, fci\n",
    "\n",
    "mol = gto.Mole()\n",
    "mol.verbose = 0\n",
    "mol.atom = \"\"\"\n",
    "    H 0.00000 0.00000 0.00000\n",
    "    H 0.00000 0.00000 0.70000\n",
    "\"\"\"\n",
    "mol.basis = \"sto3g\"\n",
    "mol.spin = 0\n",
    "mol.build()\n",
    "\n",
    "rhf = scf.RHF(mol)\n",
    "rhf.verbose = 0\n",
    "rhf.max_cycle = 0\n",
    "rhf.kernel()\n",
    "\n",
    "fciobj = fci.FCI(mol, rhf.mo_coeff)\n",
    "e, c = fciobj.kernel(nroots=10)\n",
    "\n",
    "import numpy\n",
    "h = numpy.einsum(\"e,eab,eij->abij\", e, c, c)\n",
    "\n",
    "c1 = [[1, 0], [0, 0]]\n",
    "c2 = [[0, 0], [0, 1]]\n",
    "cc = (c1, c2)\n",
    "h = numpy.einsum(\"Iab,Jij,abij->IJ\", cc, cc, h)\n",
    "h"
   ]
  },
  {
   "cell_type": "code",
   "execution_count": 27,
   "metadata": {},
   "outputs": [
    {
     "data": {
      "text/plain": [
       "(array([-6.18033989, 16.18033989]),\n",
       " array([[-0.85065081, -0.52573111],\n",
       "        [ 0.52573111, -0.85065081]]))"
      ]
     },
     "execution_count": 27,
     "metadata": {},
     "output_type": "execute_result"
    }
   ],
   "source": [
    "numpy.linalg.eig([[0, 10], [10, 10]])"
   ]
  },
  {
   "cell_type": "code",
   "execution_count": null,
   "metadata": {},
   "outputs": [],
   "source": []
  }
 ],
 "metadata": {
  "kernelspec": {
   "display_name": "base",
   "language": "python",
   "name": "python3"
  },
  "language_info": {
   "codemirror_mode": {
    "name": "ipython",
    "version": 3
   },
   "file_extension": ".py",
   "mimetype": "text/x-python",
   "name": "python",
   "nbconvert_exporter": "python",
   "pygments_lexer": "ipython3",
   "version": "3.9.13"
  },
  "orig_nbformat": 4
 },
 "nbformat": 4,
 "nbformat_minor": 2
}
